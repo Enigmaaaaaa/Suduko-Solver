{
  "cells": [
    {
      "cell_type": "markdown",
      "metadata": {
        "id": "view-in-github",
        "colab_type": "text"
      },
      "source": [
        "<a href=\"https://colab.research.google.com/github/Enigmaaaaaa/Suduko-Solver/blob/main/SAE_ZSL.ipynb\" target=\"_parent\"><img src=\"https://colab.research.google.com/assets/colab-badge.svg\" alt=\"Open In Colab\"/></a>"
      ]
    },
    {
      "cell_type": "code",
      "execution_count": 1,
      "metadata": {
        "id": "kAGL9HgAXki6"
      },
      "outputs": [],
      "source": [
        "import numpy as np\n",
        "import scipy\n",
        "import scipy.io\n",
        "import argparse"
      ]
    },
    {
      "cell_type": "code",
      "execution_count": 2,
      "metadata": {
        "id": "KRA0p_KtXsRu"
      },
      "outputs": [],
      "source": [
        "def parse_args():\n",
        "\tparser = argparse.ArgumentParser()\n",
        "\tparser.add_argument('--ld', type=float, default=500000) # lambda\n",
        "\treturn parser.parse_args()"
      ]
    },
    {
      "cell_type": "code",
      "execution_count": 3,
      "metadata": {
        "id": "Xbr1j2gpXxCr"
      },
      "outputs": [],
      "source": [
        "def normalizeFeature(x):\n",
        "    # x = d x N dims (d: feature dimension, N: the number of features)\n",
        "    x = pd.DataFrame(x)  # Converting 'x' to a pandas DataFrame\n",
        "    x = x.apply(pd.to_numeric, errors='coerce').fillna(0)  # Converting each column to numeric type, replacing non-numeric values with 0\n",
        "    x = x + 1e-10  # for avoid RuntimeWarning: invalid value encountered in divide\n",
        "    feature_norm = np.sum(x**2, axis=1)**0.5  # l2-norm\n",
        "    feat = x / feature_norm[:, np.newaxis]\n",
        "    return feat"
      ]
    },
    {
      "cell_type": "code",
      "execution_count": 4,
      "metadata": {
        "id": "ksP_asb9X2eU"
      },
      "outputs": [],
      "source": [
        "def SAE(x, s, ld):\n",
        "\t# SAE is Semantic Autoencoder\n",
        "\t# INPUTS:\n",
        "\t# \tx: d x N data matrix\n",
        "\t#\ts: k x N semantic matrix\n",
        "\t#\tld: lambda for regularization parameter\n",
        "\t#\n",
        "\t# OUTPUT:\n",
        "\t#\tw: kxd projection matrix\n",
        "\n",
        "\tA = np.dot(s, s.transpose())\n",
        "\tB = ld * np.dot(x, x.transpose())\n",
        "\tC = (1+ld) * np.dot(s, x.transpose())\n",
        "\tw = scipy.linalg.solve_sylvester(A,B,C)\n",
        "\treturn w\n"
      ]
    },
    {
      "cell_type": "code",
      "execution_count": 5,
      "metadata": {
        "colab": {
          "base_uri": "https://localhost:8080/"
        },
        "id": "rrfHuRFxYKm8",
        "outputId": "d9c7e540-977a-40fb-8d8c-54c7d856d0f1"
      },
      "outputs": [
        {
          "output_type": "stream",
          "name": "stdout",
          "text": [
            "Mounted at /content/drive\n"
          ]
        }
      ],
      "source": [
        "from google.colab import drive\n",
        "drive.mount('/content/drive')"
      ]
    },
    {
      "cell_type": "code",
      "execution_count": 6,
      "metadata": {
        "id": "_N6FevHDZJm7"
      },
      "outputs": [],
      "source": [
        "import pandas as pd\n",
        "\n",
        "# Loading the Electra Dataset\n",
        "electra_df = pd.read_csv('/content/drive/MyDrive/electra_modbus.csv')\n",
        "\n",
        "# Updating the label encoding dictionary with string keys\n",
        "label_encoding = {\n",
        "    'READ_ATTACK': '4',\n",
        "    'RECOGNITION_ATTACK': '1',\n",
        "    'WRITE_ATTACK': '5',\n",
        "    'FORCE_ERROR_ATTACK': '3',\n",
        "    'RESPONSE_ATTACK': '2',\n",
        "    'MITM_UNALTERED': '6',\n",
        "    'NORMAL': '0'\n",
        "}\n",
        "\n",
        "# Label encoding\n",
        "electra_df['label'] = electra_df['label'].map(label_encoding)\n",
        "\n",
        "# Separating instances with the 'NORMAL' label\n",
        "normal_instances = electra_df[electra_df['label'] == '0']\n",
        "\n",
        "# Selecting 8% of instances with the 'NORMAL' label randomly\n",
        "sampled_normal_instances = normal_instances.sample(frac=0.008, random_state=42)\n",
        "\n",
        "# Removing instances of the three attack classes (RECOGNITION_ATTACK, FORCE_ERROR_ATTACK, RESPONSE_ATTACK) to form X_tr\n",
        "excluded_classes = ['1', '3', '4']\n",
        "excluded_classes1 = ['0','1', '3', '4']\n",
        "X_tr = electra_df[~electra_df['label'].isin(excluded_classes1)]\n",
        "\n",
        "# Concatenating the sampled normal instances with X_tr\n",
        "X_tr = pd.concat([X_tr, sampled_normal_instances])\n",
        "\n",
        "# Creating X_te by selecting instances belonging to the three attack classes\n",
        "X_te = electra_df[electra_df['label'].isin(excluded_classes)]\n",
        "\n",
        "# Reseting the index of X_tr and X_te\n",
        "X_tr.reset_index(drop=True, inplace=True)\n",
        "X_te.reset_index(drop=True, inplace=True)\n"
      ]
    },
    {
      "cell_type": "code",
      "execution_count": 7,
      "metadata": {
        "id": "nCzThIeHk_8w"
      },
      "outputs": [],
      "source": [
        "# Removing instances with 'nan' labels from X_tr\n",
        "X_tr = X_tr.dropna(subset=['label'])"
      ]
    },
    {
      "cell_type": "code",
      "execution_count": 8,
      "metadata": {
        "id": "NfvDvjAXeHcJ",
        "colab": {
          "base_uri": "https://localhost:8080/"
        },
        "outputId": "db8491ea-2604-4b73-d2da-bd7109552e98"
      },
      "outputs": [
        {
          "output_type": "stream",
          "name": "stdout",
          "text": [
            "X_tr shape: (1687542, 11)\n",
            "X_te shape: (817670, 11)\n"
          ]
        }
      ],
      "source": [
        "# Printing the shape of X_tr to verify the dimensions\n",
        "print(\"X_tr shape:\", X_tr.shape)\n",
        "\n",
        "# Printing the shape of X_te to verify the dimensions\n",
        "print(\"X_te shape:\", X_te.shape)\n"
      ]
    },
    {
      "cell_type": "code",
      "execution_count": 9,
      "metadata": {
        "id": "imWyhQz__z2M",
        "colab": {
          "base_uri": "https://localhost:8080/"
        },
        "outputId": "3adbbc1b-3c18-4c0e-fe82-67197fb8a7c2"
      },
      "outputs": [
        {
          "output_type": "stream",
          "name": "stderr",
          "text": [
            "<ipython-input-3-bdf2fd0a709b>:7: FutureWarning: Support for multi-dimensional indexing (e.g. `obj[:, None]`) is deprecated and will be removed in a future version.  Convert to a numpy array before indexing instead.\n",
            "  feat = x / feature_norm[:, np.newaxis]\n"
          ]
        }
      ],
      "source": [
        "# S_tr Creation using SAE\n",
        "# Normalizing the data\n",
        "normalized_X_tr = normalizeFeature(X_tr.transpose()).transpose()"
      ]
    },
    {
      "cell_type": "code",
      "source": [
        "import argparse\n",
        "\n",
        "def parse_args():\n",
        "    parser = argparse.ArgumentParser(description=\"Description of your program.\")\n",
        "    parser.add_argument('--ld', type=float, default=0.01, help='Value of lambda (ld)')\n",
        "    args, unknown = parser.parse_known_args()\n",
        "    return args\n",
        "\n",
        "# Calling parse_args() to get the parsed arguments\n",
        "opts = parse_args()"
      ],
      "metadata": {
        "id": "fInGew_mHlS2"
      },
      "execution_count": 10,
      "outputs": []
    },
    {
      "cell_type": "code",
      "execution_count": 11,
      "metadata": {
        "id": "Vny0PqSCDkYs",
        "colab": {
          "base_uri": "https://localhost:8080/"
        },
        "outputId": "e60c5956-61e1-4d5e-91c7-233deb24dddb"
      },
      "outputs": [
        {
          "output_type": "stream",
          "name": "stderr",
          "text": [
            "<ipython-input-3-bdf2fd0a709b>:7: FutureWarning: Support for multi-dimensional indexing (e.g. `obj[:, None]`) is deprecated and will be removed in a future version.  Convert to a numpy array before indexing instead.\n",
            "  feat = x / feature_norm[:, np.newaxis]\n"
          ]
        }
      ],
      "source": [
        "# Training SAE\n",
        "W = SAE(normalized_X_tr.transpose(), normalized_X_tr.transpose(), opts.ld)\n",
        "\n",
        "# Encoding X_tr using SAE\n",
        "S_tr = np.dot(normalized_X_tr, normalizeFeature(W).transpose())"
      ]
    },
    {
      "cell_type": "code",
      "source": [
        "# Printing the shape of S_tr to verify the dimensions\n",
        "print(\"S_tr shape:\", S_tr.shape)"
      ],
      "metadata": {
        "colab": {
          "base_uri": "https://localhost:8080/"
        },
        "id": "Ti4_sKQ5mxbm",
        "outputId": "59e391bc-930b-452b-d5d3-9d4371e9eaf1"
      },
      "execution_count": 12,
      "outputs": [
        {
          "output_type": "stream",
          "name": "stdout",
          "text": [
            "S_tr shape: (1687542, 11)\n"
          ]
        }
      ]
    },
    {
      "cell_type": "code",
      "source": [
        "# S_te Creation using SAE\n",
        "# Normalizing the data\n",
        "normalized_X_te = normalizeFeature(X_te.transpose()).transpose()"
      ],
      "metadata": {
        "colab": {
          "base_uri": "https://localhost:8080/"
        },
        "id": "-GnRckITn3Vi",
        "outputId": "fa310643-4db5-4288-803b-38867e6ecddc"
      },
      "execution_count": 13,
      "outputs": [
        {
          "output_type": "stream",
          "name": "stderr",
          "text": [
            "<ipython-input-3-bdf2fd0a709b>:7: FutureWarning: Support for multi-dimensional indexing (e.g. `obj[:, None]`) is deprecated and will be removed in a future version.  Convert to a numpy array before indexing instead.\n",
            "  feat = x / feature_norm[:, np.newaxis]\n"
          ]
        }
      ]
    },
    {
      "cell_type": "code",
      "source": [
        "# Training SAE\n",
        "V = SAE(normalized_X_te.transpose(), normalized_X_te.transpose(), opts.ld)\n",
        "\n",
        "# Encoding X_tr using SAE\n",
        "S_te = np.dot(normalized_X_te, normalizeFeature(V).transpose())"
      ],
      "metadata": {
        "colab": {
          "base_uri": "https://localhost:8080/"
        },
        "id": "xf82qOafoFfv",
        "outputId": "c9688932-c36d-48f8-f99a-b84ace10a9af"
      },
      "execution_count": 14,
      "outputs": [
        {
          "output_type": "stream",
          "name": "stderr",
          "text": [
            "<ipython-input-3-bdf2fd0a709b>:7: FutureWarning: Support for multi-dimensional indexing (e.g. `obj[:, None]`) is deprecated and will be removed in a future version.  Convert to a numpy array before indexing instead.\n",
            "  feat = x / feature_norm[:, np.newaxis]\n"
          ]
        }
      ]
    },
    {
      "cell_type": "code",
      "source": [
        "# Printing the shape of S_tr to verify the dimensions\n",
        "print(\"S_te shape:\", S_te.shape)"
      ],
      "metadata": {
        "colab": {
          "base_uri": "https://localhost:8080/"
        },
        "id": "dEUAB5GroRoU",
        "outputId": "d50c3a3b-979e-4754-f60a-52c2654963c4"
      },
      "execution_count": 15,
      "outputs": [
        {
          "output_type": "stream",
          "name": "stdout",
          "text": [
            "S_te shape: (817670, 11)\n"
          ]
        }
      ]
    },
    {
      "cell_type": "code",
      "execution_count": 16,
      "metadata": {
        "id": "GVzY-JEEhZfj"
      },
      "outputs": [],
      "source": [
        "# Test_labels and Testclasses_id Creation\n",
        "# Creating Test_labels and Testclasses_id arrays for X_te\n",
        "Test_labels = X_te['label'].values.astype(str)\n",
        "Testclasses_id = X_te['label'].unique().astype(str)"
      ]
    },
    {
      "cell_type": "code",
      "execution_count": 17,
      "metadata": {
        "id": "Fai_Nx5bh-Ir",
        "colab": {
          "base_uri": "https://localhost:8080/"
        },
        "outputId": "2bc64747-f056-4c89-bc1c-29d6ac94d3b5"
      },
      "outputs": [
        {
          "output_type": "stream",
          "name": "stdout",
          "text": [
            "Test_labels: (817670,)\n",
            "Testclasses_id: (3,)\n"
          ]
        }
      ],
      "source": [
        "# Printing the shape to verify the dimensions\n",
        "print(\"Test_labels:\", Test_labels.shape)\n",
        "print(\"Testclasses_id:\", Testclasses_id.shape)\n"
      ]
    }
  ],
  "metadata": {
    "colab": {
      "provenance": [],
      "include_colab_link": true
    },
    "kernelspec": {
      "display_name": "Python 3",
      "name": "python3"
    },
    "language_info": {
      "name": "python"
    }
  },
  "nbformat": 4,
  "nbformat_minor": 0
}