{
  "cells": [
    {
      "cell_type": "markdown",
      "metadata": {
        "id": "view-in-github",
        "colab_type": "text"
      },
      "source": [
        "<a href=\"https://colab.research.google.com/github/Enigmaaaaaa/Suduko-Solver/blob/main/Copy_of_Copy_of_SAE_ZSL_II.ipynb\" target=\"_parent\"><img src=\"https://colab.research.google.com/assets/colab-badge.svg\" alt=\"Open In Colab\"/></a>"
      ]
    },
    {
      "cell_type": "code",
      "execution_count": 1,
      "metadata": {
        "id": "kAGL9HgAXki6"
      },
      "outputs": [],
      "source": [
        "import numpy as np\n",
        "import scipy\n",
        "import scipy.io\n",
        "import argparse"
      ]
    },
    {
      "cell_type": "code",
      "execution_count": 2,
      "metadata": {
        "id": "KRA0p_KtXsRu"
      },
      "outputs": [],
      "source": [
        "def parse_args():\n",
        "\tparser = argparse.ArgumentParser()\n",
        "\tparser.add_argument('--ld', type=float, default=500000) # lambda\n",
        "\treturn parser.parse_args()"
      ]
    },
    {
      "cell_type": "code",
      "execution_count": 3,
      "metadata": {
        "id": "Xbr1j2gpXxCr"
      },
      "outputs": [],
      "source": [
        "def normalizeFeature(x):\n",
        "    # x = d x N dims (d: feature dimension, N: the number of features)\n",
        "    x = pd.DataFrame(x)  # Convert 'x' to a pandas DataFrame\n",
        "    x = x.apply(pd.to_numeric, errors='coerce').fillna(0)  # Convert each column to numeric type, replace non-numeric values with 0\n",
        "    x = x + 1e-10  # for avoid RuntimeWarning: invalid value encountered in divide\n",
        "    feature_norm = np.sum(x**2, axis=1)**0.5  # l2-norm\n",
        "    feat = x / feature_norm[:, np.newaxis]\n",
        "    return feat"
      ]
    },
    {
      "cell_type": "code",
      "execution_count": 4,
      "metadata": {
        "id": "ksP_asb9X2eU"
      },
      "outputs": [],
      "source": [
        "def SAE(x, s, ld):\n",
        "\t# SAE is Semantic Autoencoder\n",
        "\t# INPUTS:\n",
        "\t# \tx: d x N data matrix\n",
        "\t#\ts: k x N semantic matrix\n",
        "\t#\tld: lambda for regularization parameter\n",
        "\t#\n",
        "\t# OUTPUT:\n",
        "\t#\tw: kxd projection matrix\n",
        "\n",
        "\tA = np.dot(s, s.transpose())\n",
        "\tB = ld * np.dot(x, x.transpose())\n",
        "\tC = (1+ld) * np.dot(s, x.transpose())\n",
        "\tw = scipy.linalg.solve_sylvester(A,B,C)\n",
        "\treturn w\n"
      ]
    },
    {
      "cell_type": "code",
      "execution_count": 5,
      "metadata": {
        "id": "uxrMkKcRX8Rx"
      },
      "outputs": [],
      "source": [
        "def distCosine(x, y):\n",
        "\txx = np.sum(x**2, axis=1)**0.5\n",
        "\tx = x / xx[:, np.newaxis]\n",
        "\tyy = np.sum(y**2, axis=1)**0.5\n",
        "\ty = y / yy[:, np.newaxis]\n",
        "\tdist = 1 - np.dot(x, y.transpose())\n",
        "\treturn dist"
      ]
    },
    {
      "cell_type": "code",
      "execution_count": 6,
      "metadata": {
        "id": "d3XoKzPCYBAm"
      },
      "outputs": [],
      "source": [
        "def zsl_acc(semantic_predicted, semantic_gt, opts):\n",
        "\t# zsl_acc calculates zero-shot classification accruacy\n",
        "\t#\n",
        "\t# INPUTS:\n",
        "\t#\tsemantic_prediced: predicted semantic labels\n",
        "\t# \tsemantic_gt: ground truth semantic labels\n",
        "\t# \topts: other parameters\n",
        "\t#\n",
        "\t# OUTPUT:\n",
        "\t# \tzsl_accuracy: zero-shot classification accuracy (per-sample)\n",
        "\n",
        "\tdist = 1 - distCosine(semantic_predicted, normalizeFeature(semantic_gt.transpose()).transpose())\n",
        "\ty_hit_k = np.zeros((dist.shape[0], opts.HITK))\n",
        "\tfor idx in range(0, dist.shape[0]):\n",
        "\t\tsorted_id = sorted(range(len(dist[idx,:])), key=lambda k: dist[idx,:][k], reverse=True)\n",
        "\t\ty_hit_k[idx,:] = opts.test_classes_id[sorted_id[0:opts.HITK]]\n",
        "\n",
        "\tn = 0\n",
        "\tfor idx in range(0, dist.shape[0]):\n",
        "\t\tif opts.test_labels[idx] in y_hit_k[idx,:]:\n",
        "\t\t\tn = n + 1\n",
        "\tzsl_accuracy = float(n) / dist.shape[0] * 100\n",
        "\treturn zsl_accuracy, y_hit_k"
      ]
    },
    {
      "cell_type": "code",
      "execution_count": 7,
      "metadata": {
        "colab": {
          "base_uri": "https://localhost:8080/"
        },
        "id": "rrfHuRFxYKm8",
        "outputId": "10b4fd1b-d104-4524-a4a3-117bec1e6a22"
      },
      "outputs": [
        {
          "output_type": "stream",
          "name": "stdout",
          "text": [
            "Drive already mounted at /content/drive; to attempt to forcibly remount, call drive.mount(\"/content/drive\", force_remount=True).\n"
          ]
        }
      ],
      "source": [
        "from google.colab import drive\n",
        "drive.mount('/content/drive')"
      ]
    },
    {
      "cell_type": "code",
      "execution_count": 8,
      "metadata": {
        "id": "_N6FevHDZJm7"
      },
      "outputs": [],
      "source": [
        "import pandas as pd\n",
        "\n",
        "# Load the Electra Dataset\n",
        "electra_df = pd.read_csv('/content/drive/MyDrive/electra_modbus.csv')\n",
        "\n",
        "# Update the label encoding dictionary with string keys\n",
        "label_encoding = {\n",
        "    'READ_ATTACK': '4',\n",
        "    'RECOGNITION_ATTACK': '1',\n",
        "    'WRITE_ATTACK': '5',\n",
        "    'FORCE_ERROR_ATTACK': '3',\n",
        "    'RESPONSE_ATTACK': '2',\n",
        "    'MITM_UNALTERED': '6',\n",
        "    'NORMAL': '0'\n",
        "}\n",
        "\n",
        "# Label encoding\n",
        "electra_df['label'] = electra_df['label'].map(label_encoding)\n",
        "\n",
        "# Separate instances with the 'NORMAL' label\n",
        "normal_instances = electra_df[electra_df['label'] == '0']\n",
        "\n",
        "# Select 5% of instances with the 'NORMAL' label randomly\n",
        "sampled_normal_instances = normal_instances.sample(frac=0.001, random_state=42)\n",
        "\n",
        "# Remove instances of the three attack classes (RECOGNITION_ATTACK, FORCE_ERROR_ATTACK, RESPONSE_ATTACK) to form X_tr\n",
        "excluded_classes = ['1', '3', '4']\n",
        "excluded_classes1 = ['0','1', '3', '4']\n",
        "X_tr = electra_df[~electra_df['label'].isin(excluded_classes1)]\n",
        "\n",
        "# Concatenate the sampled normal instances with X_tr\n",
        "X_tr = pd.concat([X_tr, sampled_normal_instances])\n",
        "\n",
        "# Create X_te by selecting instances belonging to the three attack classes\n",
        "X_te = electra_df[electra_df['label'].isin(excluded_classes)]\n",
        "\n",
        "# Reset the index of X_tr and X_te\n",
        "X_tr.reset_index(drop=True, inplace=True)\n",
        "X_te.reset_index(drop=True, inplace=True)\n"
      ]
    },
    {
      "cell_type": "code",
      "execution_count": 9,
      "metadata": {
        "id": "nCzThIeHk_8w"
      },
      "outputs": [],
      "source": [
        "# Remove instances with 'nan' labels from X_tr\n",
        "X_tr = X_tr.dropna(subset=['label'])\n",
        "\n",
        "# Reset the index of X_tr\n",
        "X_tr.reset_index(drop=True, inplace=True)"
      ]
    },
    {
      "cell_type": "code",
      "execution_count": 10,
      "metadata": {
        "id": "XCXm8d9V8Xig"
      },
      "outputs": [],
      "source": [
        "import pickle\n",
        "import numpy as np\n",
        "\n",
        "# Path and filename for the embeddings dictionary file on Google Drive\n",
        "pkl_file_path = '/content/drive/MyDrive/embeddings_dict.pkl'\n"
      ]
    },
    {
      "cell_type": "code",
      "execution_count": 11,
      "metadata": {
        "id": "ARcyOipum8b4"
      },
      "outputs": [],
      "source": [
        "# Load the embeddings_dict from the pickle file\n",
        "with open(pkl_file_path, 'rb') as file:\n",
        "    embeddings_dict = pickle.load(file)"
      ]
    },
    {
      "cell_type": "code",
      "execution_count": 12,
      "metadata": {
        "colab": {
          "base_uri": "https://localhost:8080/"
        },
        "id": "Mr5tacBcg_xN",
        "outputId": "aa4a6818-f326-47b8-9d29-0ffbf85b7698"
      },
      "outputs": [
        {
          "output_type": "stream",
          "name": "stdout",
          "text": [
            "Unique labels in X_tr: ['6' '2' '5' '0']\n",
            "Unique labels in embeddings_dict: ['1', '2', '3', '4', '5', '6', '0']\n"
          ]
        }
      ],
      "source": [
        "# Get unique labels in X_tr\n",
        "unique_labels_X_tr = X_tr['label'].unique()\n",
        "print(\"Unique labels in X_tr:\", unique_labels_X_tr)\n",
        "\n",
        "# Get unique labels in embeddings_dict\n",
        "unique_labels_embeddings = list(embeddings_dict.keys())\n",
        "print(\"Unique labels in embeddings_dict:\", unique_labels_embeddings)"
      ]
    },
    {
      "cell_type": "code",
      "execution_count": 13,
      "metadata": {
        "colab": {
          "base_uri": "https://localhost:8080/"
        },
        "id": "NfvDvjAXeHcJ",
        "outputId": "ddd5d7d9-3f19-4dd4-a44b-77f5b981f171"
      },
      "outputs": [
        {
          "output_type": "stream",
          "name": "stdout",
          "text": [
            "X_tr shape: (1590281, 11)\n",
            "X_te shape: (817670, 11)\n"
          ]
        }
      ],
      "source": [
        "# Print the shape of X_tr to verify the dimensions\n",
        "print(\"X_tr shape:\", X_tr.shape)\n",
        "\n",
        "# Print the shape of X_te to verify the dimensions\n",
        "print(\"X_te shape:\", X_te.shape)\n"
      ]
    },
    {
      "cell_type": "code",
      "execution_count": 14,
      "metadata": {
        "colab": {
          "base_uri": "https://localhost:8080/"
        },
        "id": "fInGew_mHlS2",
        "outputId": "7af1fd7f-629b-4137-85b3-e48f06eff637"
      },
      "outputs": [
        {
          "output_type": "stream",
          "name": "stdout",
          "text": [
            "0.01\n"
          ]
        }
      ],
      "source": [
        "import argparse\n",
        "\n",
        "def parse_args():\n",
        "    parser = argparse.ArgumentParser(description=\"Description of your program.\")\n",
        "    parser.add_argument('--ld', type=float, default=0.01, help='Value of lambda (ld)')\n",
        "    # Add more arguments as needed\n",
        "\n",
        "    args, unknown = parser.parse_known_args()\n",
        "    return args\n",
        "\n",
        "# Call parse_args() to get the parsed arguments\n",
        "opts = parse_args()\n",
        "\n",
        "# You can access the parsed arguments like this:\n",
        "print(opts.ld)"
      ]
    },
    {
      "cell_type": "code",
      "execution_count": 15,
      "metadata": {
        "id": "BqFbsvrJb0v9"
      },
      "outputs": [],
      "source": [
        "# Create an empty matrix S_te\n",
        "S_te = np.zeros((len(X_te), 300))"
      ]
    },
    {
      "cell_type": "code",
      "execution_count": 16,
      "metadata": {
        "id": "XIdSAwnxcOei"
      },
      "outputs": [],
      "source": [
        "# Populate S_te with the vector embeddings\n",
        "chunk_size = 100\n",
        "\n",
        "S_te_chunks = []\n",
        "\n",
        "for start_idx in range(0, len(X_te), chunk_size):\n",
        "    end_idx = min(start_idx + chunk_size, len(X_te))\n",
        "    labels = X_te.loc[start_idx:end_idx-1, 'label'].astype(str)\n",
        "    embeddings = np.array([embeddings_dict.get(label) for label in labels])\n",
        "    S_te_chunks.append(embeddings)\n",
        "\n",
        "S_te = np.vstack(S_te_chunks)"
      ]
    },
    {
      "cell_type": "code",
      "execution_count": 17,
      "metadata": {
        "colab": {
          "base_uri": "https://localhost:8080/"
        },
        "id": "7xYAV7-gcdV8",
        "outputId": "52dac97f-17be-4e2b-e590-0514cffeecc6"
      },
      "outputs": [
        {
          "output_type": "stream",
          "name": "stdout",
          "text": [
            "S_te shape: (817670, 300)\n"
          ]
        }
      ],
      "source": [
        "# Print the shape of S_te to verify the dimensions\n",
        "print(\"S_te shape:\", S_te.shape)"
      ]
    },
    {
      "cell_type": "code",
      "execution_count": 18,
      "metadata": {
        "id": "NRQ-FgA1e0Xs"
      },
      "outputs": [],
      "source": [
        "# Create an empty matrix S_tr\n",
        "S_tr = np.zeros((len(X_tr), 300))"
      ]
    },
    {
      "cell_type": "code",
      "execution_count": 19,
      "metadata": {
        "id": "eiJnlEkPe0IP"
      },
      "outputs": [],
      "source": [
        "# Populate S_tr with the vector embeddings\n",
        "chunk_size = 10\n",
        "\n",
        "S_tr_chunks = []\n",
        "\n",
        "for start_idx in range(0, len(X_tr), chunk_size):\n",
        "    end_idx = min(start_idx + chunk_size, len(X_tr))\n",
        "    labels = X_tr.loc[start_idx:end_idx-1, 'label'].astype(str)\n",
        "    embeddings = np.array([embeddings_dict.get(label) for label in labels])\n",
        "    S_tr_chunks.append(embeddings)\n",
        "\n",
        "S_tr = np.vstack(S_tr_chunks)"
      ]
    },
    {
      "cell_type": "code",
      "execution_count": 20,
      "metadata": {
        "colab": {
          "base_uri": "https://localhost:8080/"
        },
        "id": "ZlJQpoVIfLUF",
        "outputId": "9e5bbd13-a486-4367-d248-3b44b90c5f34"
      },
      "outputs": [
        {
          "output_type": "stream",
          "name": "stdout",
          "text": [
            "S_tr shape: (1590281, 300)\n"
          ]
        }
      ],
      "source": [
        "# Print the shape of S_tr to verify the dimensions\n",
        "print(\"S_tr shape:\", S_tr.shape)"
      ]
    },
    {
      "cell_type": "code",
      "source": [
        "def main():\n",
        "  opts = parse_args()\n",
        "\n",
        "  # Step 3: S_te Creation using SAE\n",
        "  # Normalize the data\n",
        "  normalized_X_te = normalizeFeature(X_te.transpose()).transpose()\n",
        "\n",
        "  # Training SAE\n",
        "  W = SAE(normalized_X_te.transpose(), normalized_X_te.transpose(), opts.ld)\n",
        "\n",
        "  # Encode X_te using SAE\n",
        "  S_te = np.dot(normalized_X_te, normalizeFeature(W).transpose())\n",
        "\n",
        "  return S_te\n"
      ],
      "metadata": {
        "id": "r2BKzCwq6Sxk"
      },
      "execution_count": 21,
      "outputs": []
    },
    {
      "cell_type": "code",
      "execution_count": 22,
      "metadata": {
        "id": "-zPziDHJIPLm",
        "colab": {
          "base_uri": "https://localhost:8080/"
        },
        "outputId": "878e2911-93d8-4cdc-96ab-5ddc1cf74a83"
      },
      "outputs": [
        {
          "output_type": "stream",
          "name": "stdout",
          "text": [
            "python3: can't open file '/content/drive/MyDrive/Colab Notebooks/SAE-ZSL.ipynb': [Errno 2] No such file or directory\n"
          ]
        }
      ],
      "source": [
        "!python3 /content/drive/MyDrive/Colab\\ Notebooks/SAE-ZSL.ipynb --ld 500000\n"
      ]
    },
    {
      "cell_type": "code",
      "source": [
        "# Call the main function and store the result in S_tr\n",
        "S_tr = main()\n",
        "\n",
        "# Print the shape of S_tr to verify the dimensions\n",
        "print(\"S_tr shape:\", S_tr.shape)"
      ],
      "metadata": {
        "id": "V4OE6CkG8mYn"
      },
      "execution_count": null,
      "outputs": []
    },
    {
      "cell_type": "code",
      "execution_count": null,
      "metadata": {
        "id": "VTxK0CDVHtiZ"
      },
      "outputs": [],
      "source": [
        "# Call the main function and store the result in S_te\n",
        "S_te = main()\n",
        "\n",
        "# Print the shape of S_te to verify the dimensions\n",
        "print(\"S_te shape:\", S_te.shape)"
      ]
    },
    {
      "cell_type": "code",
      "execution_count": null,
      "metadata": {
        "colab": {
          "background_save": true
        },
        "id": "GVzY-JEEhZfj"
      },
      "outputs": [],
      "source": [
        "# Step 5: Test_labels and Testclasses_id Creation\n",
        "# Create Test_labels and Testclasses_id arrays for X_te\n",
        "Test_labels = X_te['label'].values.astype(str)\n",
        "Testclasses_id = X_te['label'].unique().astype(str)"
      ]
    },
    {
      "cell_type": "code",
      "execution_count": null,
      "metadata": {
        "id": "GugbsBqFHSkO"
      },
      "outputs": [],
      "source": [
        "# Print the shape of S_tr to verify the dimensions\n",
        "print(\"S_tr shape:\", S_tr.shape)"
      ]
    },
    {
      "cell_type": "code",
      "execution_count": null,
      "metadata": {
        "colab": {
          "base_uri": "https://localhost:8080/",
          "height": 201
        },
        "id": "Fai_Nx5bh-Ir",
        "outputId": "25afb895-be22-49b2-9280-00567f77e92d"
      },
      "outputs": [
        {
          "output_type": "error",
          "ename": "NameError",
          "evalue": "ignored",
          "traceback": [
            "\u001b[0;31m---------------------------------------------------------------------------\u001b[0m",
            "\u001b[0;31mNameError\u001b[0m                                 Traceback (most recent call last)",
            "\u001b[0;32m<ipython-input-22-6ae1aaa6631c>\u001b[0m in \u001b[0;36m<cell line: 2>\u001b[0;34m()\u001b[0m\n\u001b[1;32m      1\u001b[0m \u001b[0;31m# Print the shape to verify the dimensions\u001b[0m\u001b[0;34m\u001b[0m\u001b[0;34m\u001b[0m\u001b[0m\n\u001b[0;32m----> 2\u001b[0;31m \u001b[0mprint\u001b[0m\u001b[0;34m(\u001b[0m\u001b[0;34m\"Test_labels:\"\u001b[0m\u001b[0;34m,\u001b[0m \u001b[0mTest_labels\u001b[0m\u001b[0;34m.\u001b[0m\u001b[0mshape\u001b[0m\u001b[0;34m)\u001b[0m\u001b[0;34m\u001b[0m\u001b[0;34m\u001b[0m\u001b[0m\n\u001b[0m\u001b[1;32m      3\u001b[0m \u001b[0mprint\u001b[0m\u001b[0;34m(\u001b[0m\u001b[0;34m\"Testclasses_id:\"\u001b[0m\u001b[0;34m,\u001b[0m \u001b[0mTestclasses_id\u001b[0m\u001b[0;34m.\u001b[0m\u001b[0mshape\u001b[0m\u001b[0;34m)\u001b[0m\u001b[0;34m\u001b[0m\u001b[0;34m\u001b[0m\u001b[0m\n",
            "\u001b[0;31mNameError\u001b[0m: name 'Test_labels' is not defined"
          ]
        }
      ],
      "source": [
        "# Print the shape to verify the dimensions\n",
        "print(\"Test_labels:\", Test_labels.shape)\n",
        "print(\"Testclasses_id:\", Testclasses_id.shape)\n"
      ]
    }
  ],
  "metadata": {
    "colab": {
      "provenance": [],
      "include_colab_link": true
    },
    "kernelspec": {
      "display_name": "Python 3",
      "name": "python3"
    },
    "language_info": {
      "name": "python"
    }
  },
  "nbformat": 4,
  "nbformat_minor": 0
}